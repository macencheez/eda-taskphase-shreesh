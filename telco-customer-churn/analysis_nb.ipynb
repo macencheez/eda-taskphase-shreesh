{
 "cells": [
  {
   "cell_type": "markdown",
   "metadata": {},
   "source": [
    "# Telco Customer Churn"
   ]
  },
  {
   "cell_type": "markdown",
   "metadata": {},
   "source": [
    "## About:\n",
    "Churn rate is a measure of the number of indivisuals or items moving out of a group/organisation over a specific period. Hence it serves as an important metric for companies whose customers pay in a recurrent manner. It helps mostly subscription based companies to have a ballpark estimate of how many customers they will have sticking around over a period of time, visually the line of saturation in the graph developed gradually for a given time period. Note that this equilibrium may vary over years according to company strategies which are essentially ways to lure customers thus altering the churn rate to an ideal low. "
   ]
  },
  {
   "cell_type": "markdown",
   "metadata": {},
   "source": [
    "## Dataset Overview \n",
    "Each row represents a customer, each column contains customer’s attributes described on the column metadata.\n",
    "\n",
    "The data set includes information about:\n",
    "\n",
    "1. Customers who left within the last month – the column is called Churn\n",
    "\n",
    "2. Services that each customer has signed up for – phone, multiple lines, internet, online security, online backup, device protection, tech support, and streaming TV and movies\n",
    "\n",
    "3. Customer account information – how long they’ve been a customer, contract, payment method, paperless billing, monthly charges, and total charges\n",
    "\n",
    "4. Demographic info about customers – gender, age range, and if they have partners and dependents\n"
   ]
  },
  {
   "cell_type": "markdown",
   "metadata": {},
   "source": [
    "## Objective: \n"
   ]
  },
  {
   "cell_type": "code",
   "execution_count": 1,
   "metadata": {},
   "outputs": [],
   "source": [
    "import warnings\n",
    "warnings.filterwarnings(\"ignore\", category=DeprecationWarning)\n",
    "warnings.filterwarnings(\"ignore\", category=FutureWarning)"
   ]
  },
  {
   "cell_type": "code",
   "execution_count": 2,
   "metadata": {},
   "outputs": [],
   "source": [
    "import numpy as np \n",
    "import pandas as pd \n",
    "import matplotlib.pyplot as plt\n",
    "import seaborn as sns"
   ]
  },
  {
   "cell_type": "code",
   "execution_count": 3,
   "metadata": {},
   "outputs": [],
   "source": [
    "dataset = pd.read_csv(\"WA_Fn-UseC_-Telco-Customer-Churn.csv\", index_col='customerID')"
   ]
  },
  {
   "cell_type": "code",
   "execution_count": 4,
   "metadata": {},
   "outputs": [],
   "source": [
    "# dataset.describe()"
   ]
  },
  {
   "cell_type": "code",
   "execution_count": 5,
   "metadata": {},
   "outputs": [],
   "source": [
    "# dataset.info()"
   ]
  },
  {
   "cell_type": "code",
   "execution_count": 6,
   "metadata": {},
   "outputs": [],
   "source": [
    "# dataset['TotalCharges'].describe"
   ]
  },
  {
   "cell_type": "markdown",
   "metadata": {},
   "source": [
    "#### Fixing missing values\n"
   ]
  },
  {
   "cell_type": "code",
   "execution_count": 7,
   "metadata": {},
   "outputs": [
    {
     "name": "stderr",
     "output_type": "stream",
     "text": [
      "/home/shreesh/.local/lib/python3.6/site-packages/sklearn/utils/deprecation.py:66: DeprecationWarning: Class Imputer is deprecated; Imputer was deprecated in version 0.20 and will be removed in 0.22. Import impute.SimpleImputer from sklearn instead.\n",
      "  warnings.warn(msg, category=DeprecationWarning)\n"
     ]
    }
   ],
   "source": [
    "dataset['TotalCharges'] = dataset['TotalCharges'].replace(\" \", 0)\n",
    "temp = dataset['TotalCharges'].values.reshape(-1,1).astype('float64')\n",
    "from sklearn.preprocessing import Imputer\n",
    "imputer = Imputer(missing_values=0., strategy='mean', axis = 0)\n",
    "imputer.fit(temp[:, :])\n",
    "imputer.transform(temp[:, :])\n",
    "dataset['TotalCharges'] = temp"
   ]
  },
  {
   "cell_type": "code",
   "execution_count": 8,
   "metadata": {},
   "outputs": [],
   "source": [
    "# dataset['TotalCharges'].describe"
   ]
  },
  {
   "cell_type": "code",
   "execution_count": 9,
   "metadata": {},
   "outputs": [
    {
     "name": "stdout",
     "output_type": "stream",
     "text": [
      "Unique classes in every coloumn are as follows:\n",
      "\n",
      "gender\n",
      "['Female' 'Male']\n",
      "\n",
      "SeniorCitizen\n",
      "[0 1]\n",
      "\n",
      "Partner\n",
      "['Yes' 'No']\n",
      "\n",
      "Dependents\n",
      "['No' 'Yes']\n",
      "\n",
      "PhoneService\n",
      "['No' 'Yes']\n",
      "\n",
      "MultipleLines\n",
      "['No phone service' 'No' 'Yes']\n",
      "\n",
      "InternetService\n",
      "['DSL' 'Fiber optic' 'No']\n",
      "\n",
      "OnlineSecurity\n",
      "['No' 'Yes' 'No internet service']\n",
      "\n",
      "OnlineBackup\n",
      "['Yes' 'No' 'No internet service']\n",
      "\n",
      "DeviceProtection\n",
      "['No' 'Yes' 'No internet service']\n",
      "\n",
      "TechSupport\n",
      "['No' 'Yes' 'No internet service']\n",
      "\n",
      "StreamingTV\n",
      "['No' 'Yes' 'No internet service']\n",
      "\n",
      "StreamingMovies\n",
      "['No' 'Yes' 'No internet service']\n",
      "\n",
      "Contract\n",
      "['Month-to-month' 'One year' 'Two year']\n",
      "\n",
      "PaperlessBilling\n",
      "['Yes' 'No']\n",
      "\n",
      "PaymentMethod\n",
      "['Electronic check' 'Mailed check' 'Bank transfer (automatic)'\n",
      " 'Credit card (automatic)']\n",
      "\n",
      "Churn\n",
      "['No' 'Yes']\n"
     ]
    }
   ],
   "source": [
    "print(\"Unique classes in every coloumn are as follows:\")\n",
    "for col in dataset:\n",
    "    col_list = tuple(dataset[col].unique())\n",
    "    if len(col_list) < 5:\n",
    "        print('\\n' + col)\n",
    "        print(dataset[col].unique())"
   ]
  },
  {
   "cell_type": "markdown",
   "metadata": {},
   "source": [
    "All the categorical data columns are encoded to aid data visualisation"
   ]
  },
  {
   "cell_type": "code",
   "execution_count": 10,
   "metadata": {},
   "outputs": [],
   "source": [
    "# from sklearn.preprocessing import LabelEncoder\n",
    "# label_this = LabelEncoder()\n",
    "# for col in dataset:\n",
    "#     if col == 'customerID':\n",
    "#         pass\n",
    "#     elif col == 'tenure':\n",
    "#         pass\n",
    "#     elif col == 'MonthlyCharges':\n",
    "#         pass\n",
    "#     elif col == 'TotalCharges':\n",
    "#         pass\n",
    "#     else:\n",
    "#         dataset[col] = label_this.fit_transform(dataset[col])"
   ]
  },
  {
   "cell_type": "markdown",
   "metadata": {},
   "source": [
    "## Legends\n",
    "0  - customerID <br>\n",
    "1  - gender <br>\n",
    "2  - Partner <br>\n",
    "3  - Dependent <br>\n",
    "4  - tenure <br>\n",
    "5  - PhoneService <br>\n",
    "6  - MultipleLines <br>\n",
    "7  - InternetService <br>\n",
    "8  - OnlineSecurity <br>\n",
    "9  - OnlineBackup <br>\n",
    "10 - DeviceProtection <br>\n",
    "11 - TechSupport <br>\n",
    "12 - StreamingTV <br>\n",
    "13 - StreamingMovie <br>\n",
    "14 - Contract <br>\n",
    "15 - PaperlessBilling <br>\n",
    "16 - PaymentMethod <br>\n",
    "17 - MonthlyCharges<br>\n",
    "18 - TotalCharges <br>\n",
    "19 - Churn<br>"
   ]
  },
  {
   "cell_type": "code",
   "execution_count": 13,
   "metadata": {},
   "outputs": [],
   "source": [
    "gender = {\n",
    "    'female': 0,\n",
    "    'male': 1\n",
    "}\n",
    "\n",
    "Partner = {\n",
    "    'yes': 1,\n",
    "    'no': 0\n",
    "}\n",
    "\n",
    "MultipleLines = {\n",
    "    'no_service': 1,\n",
    "    'no': 0,\n",
    "    'yes': 2\n",
    "}\n",
    "\n",
    "InternetService = {\n",
    "    'dsl': 0,\n",
    "    'fibre_optic': 1,\n",
    "    'no': 2\n",
    "}\n",
    "\n",
    "Contract = {\n",
    "    'm2m': 0,\n",
    "    'one_year': 1,\n",
    "    'two_year': 2\n",
    "}\n",
    "\n",
    "PaperlessBilling = {\n",
    "    'yes': 1,\n",
    "    'no': 0\n",
    "}\n",
    "\n",
    "PaymentMethod = {\n",
    "    'electronic_check': 2,\n",
    "    'mailed_check': 3,\n",
    "    'bank_transfer': 0,\n",
    "    'credit_card': 1\n",
    "}\n",
    "customerID = dataset.index\n",
    "tenure = dataset['tenure']\n",
    "MonthlyCharges = dataset['MonthlyCharges']\n",
    "TotalCharges = dataset['TotalCharges']\n",
    "StreamingMovie = StreamingTV = TechSupport = DeviceProtection = OnlineBackup = OnlineSecurity = MultipleLines\n",
    "SeniorCitizen = Churn = Dependents = PhoneService = Partner\n",
    "\n",
    "legends = [customerID, gender, Partner, Dependents, tenure, PhoneService, MultipleLines, InternetService, OnlineSecurity,\n",
    "          OnlineBackup, DeviceProtection, TechSupport, StreamingTV, StreamingMovie, Contract, PaperlessBilling, PaymentMethod, \n",
    "           MonthlyCharges, TotalCharges, Churn]"
   ]
  },
  {
   "cell_type": "markdown",
   "metadata": {},
   "source": [
    "## Analysis\n",
    "### 1. Churn Distribution"
   ]
  },
  {
   "cell_type": "code",
   "execution_count": 14,
   "metadata": {},
   "outputs": [
    {
     "data": {
      "image/png": "[encoded data removed]",
      "text/plain": [
       "<Figure size 1152x432 with 1 Axes>"
      ]
     },
     "metadata": {
      "needs_background": "light"
     },
     "output_type": "display_data"
    }
   ],
   "source": [
    "plt.figure(figsize = (16,6))\n",
    "plt.title(\"Churn distribution\")\n",
    "sns.set_style('darkgrid')\n",
    "plot = sns.countplot(x = 'Churn', data = dataset)\n",
    "for p in plot.patches:\n",
    "    plot.annotate('{}'.format(p.get_height()), (p.get_x()+0.3, p.get_height()+50))\n",
    "plt.ylabel(\"Number of people\", fontsize = 13)\n",
    "plt.xlabel(\"Churn\", fontsize = 13)\n",
    "plt.show()"
   ]
  },
  {
   "cell_type": "markdown",
   "metadata": {},
   "source": [
    "***Inference: The number of people who ditched the company subscription is devastatingly high, perhaps excavating further into indivisual categories will help us get to the thicker roots of customer dissatisfaction***"
   ]
  },
  {
   "cell_type": "markdown",
   "metadata": {},
   "source": [
    "### Plotting all categorical columns wrt churn = 0/1"
   ]
  },
  {
   "cell_type": "code",
   "execution_count": null,
   "metadata": {},
   "outputs": [],
   "source": [
    "for i in enumerate(dataset.columns):\n",
    "    plt.figure(figsize=(16,6))\n",
    "    sns.set_style(\"darkgrid\")\n",
    "    if (i[1] == 'tenure'):\n",
    "        continue\n",
    "    else:\n",
    "        plt.title(\"{} distribution\".format(i[1].capitalize()))\n",
    "        plot = sns.countplot(x = '{}'.format(i[1]), data=dataset, hue = dataset['Churn'])\n",
    "        plt.show()\n",
    "#         ans = input(\"Press 1 for inference and 0 to skip\")\n",
    "        if int(ans) == 1:\n",
    "            print(\"idkkkk\")\n",
    "        else:\n",
    "            continue\n",
    "        print(\"\\n\")"
   ]
  },
  {
   "cell_type": "code",
   "execution_count": 179,
   "metadata": {},
   "outputs": [],
   "source": [
    "# male = bye[bye['gender'] == 1]\n",
    "# male_count = len(male)\n",
    "\n",
    "# female = bye[bye['gender'] == 0]\n",
    "# female_count = len(female)\n",
    "# labels = ('male', 'female')\n",
    "# pie = np.array([male_count, female_count])\n",
    "# explode = (0.01, 0.01)\n",
    "# fig, ax = plt.subplots(figsize=(6, 3), subplot_kw=dict(aspect=\"equal\"))\n",
    "# plt.pie(pie, radius = 2, explode = explode, startangle= 90, shadow=True, autopct = '%5f%%')\n",
    "# ax.legend(labels, loc = 'best')\n",
    "# plt.show()\n",
    "\n",
    "# print(\"Gender distribution\")\n"
   ]
  },
  {
   "cell_type": "markdown",
   "metadata": {},
   "source": [
    "1. ***Inference:*** Surprisingly, the gender ratio is pretty much the same, feels good to rule this out as a basis <br>\n",
    "Further bifurcating the males to find whether the seniors or juniors opted out of the service"
   ]
  },
  {
   "cell_type": "code",
   "execution_count": 180,
   "metadata": {},
   "outputs": [],
   "source": [
    "# jr_male = male[male['SeniorCitizen'] == 0]\n",
    "# sr_male = male[male['SeniorCitizen'] == 1]\n",
    "# jr_male_count = len(jr_male)\n",
    "# sr_male_count = len(sr_male)\n",
    "# print(jr_male_count)\n",
    "# print(sr_male_count)"
   ]
  },
  {
   "cell_type": "code",
   "execution_count": 133,
   "metadata": {},
   "outputs": [],
   "source": [
    "# jr_female = female[female['SeniorCitizen'] == 0]\n",
    "# sr_female = female[female['SeniorCitizen'] == 1]\n",
    "# jr_female_count = len(jr_female)\n",
    "# sr_female_count = len(sr_female)"
   ]
  },
  {
   "cell_type": "code",
   "execution_count": 125,
   "metadata": {},
   "outputs": [],
   "source": [
    "# print(female.shape[0] == jr_female_count + sr_female_count)\n",
    "# print(male.shape[0] == jr_male_count + sr_male_count)\n",
    "# print(bye.shape[0] == jr_female_count + sr_female_count + jr_male_count + sr_male_count)\n",
    "# print(bye.shape[0] == male.shape[0] + female.shape[0])"
   ]
  },
  {
   "cell_type": "code",
   "execution_count": null,
   "metadata": {},
   "outputs": [],
   "source": []
  },
  {
   "cell_type": "code",
   "execution_count": null,
   "metadata": {},
   "outputs": [],
   "source": []
  }
 ],
 "metadata": {
  "kernelspec": {
   "display_name": "Python 3",
   "language": "python",
   "name": "python3"
  },
  "language_info": {
   "codemirror_mode": {
    "name": "ipython",
    "version": 3
   },
   "file_extension": ".py",
   "mimetype": "text/x-python",
   "name": "python",
   "nbconvert_exporter": "python",
   "pygments_lexer": "ipython3",
   "version": "3.6.8"
  }
 },
 "nbformat": 4,
 "nbformat_minor": 4
}
