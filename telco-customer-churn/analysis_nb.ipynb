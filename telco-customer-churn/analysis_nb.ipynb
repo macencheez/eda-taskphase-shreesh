{
 "cells": [
  {
   "cell_type": "markdown",
   "metadata": {},
   "source": [
    "# Telco Customer Churn \n",
    "[dataset source](https://www.kaggle.com/blastchar/telco-customer-churn) <br>\n",
    "[eda-repository](https://www.github.com/necrodancerr/eda-taskphase-shreesh) <br>\n",
    "[my github](https://www.github.com/necrodancerr)<br>"
   ]
  },
  {
   "cell_type": "markdown",
   "metadata": {},
   "source": [
    "## 1) About:\n",
    "Churn rate is a measure of the number of indivisuals or items moving out of a group/organisation over a specific period. Hence it serves as an important metric for companies whose customers pay in a recurrent manner. It helps mostly subscription based companies to have a ballpark estimate of how many customers they will have sticking around over a period of time, visually the line of saturation in the graph developed gradually for a given time period. Note that this equilibrium may vary over years according to company strategies which are essentially ways to lure customers thus altering the churn rate to an ideal low. <br>"
   ]
  },
  {
   "cell_type": "markdown",
   "metadata": {},
   "source": [
    "## 2) Dataset Overview \n",
    "Each row represents a customer, each column contains customer’s attributes described on the column metadata.\n",
    "\n",
    "The data set includes information about:\n",
    "\n",
    "1. Customers who left within the last month – the column is called Churn\n",
    "\n",
    "2. Services that each customer has signed up for – phone, multiple lines, internet, online security, online backup, device protection, tech support, and streaming TV and movies\n",
    "\n",
    "3. Customer account information – how long they’ve been a customer, contract, payment method, paperless billing, monthly charges, and total charges\n",
    "\n",
    "4. Demographic info about customers – gender, age range, and if they have partners and dependents\n"
   ]
  },
  {
   "cell_type": "markdown",
   "metadata": {},
   "source": [
    "## 3) Objective: \n",
    "To derive better meaning out of the given data by mere observation and visualisation aided comparision"
   ]
  },
  {
   "cell_type": "code",
   "execution_count": 29,
   "metadata": {},
   "outputs": [
    {
     "ename": "NameError",
     "evalue": "name 'SettingWithCopy' is not defined",
     "output_type": "error",
     "traceback": [
      "\u001b[0;31m---------------------------------------------------------------------------\u001b[0m",
      "\u001b[0;31mNameError\u001b[0m                                 Traceback (most recent call last)",
      "\u001b[0;32m<ipython-input-29-7705cbc6b343>\u001b[0m in \u001b[0;36m<module>\u001b[0;34m\u001b[0m\n\u001b[1;32m      3\u001b[0m \u001b[0mwarnings\u001b[0m\u001b[0;34m.\u001b[0m\u001b[0mfilterwarnings\u001b[0m\u001b[0;34m(\u001b[0m\u001b[0;34m\"ignore\"\u001b[0m\u001b[0;34m,\u001b[0m \u001b[0mcategory\u001b[0m\u001b[0;34m=\u001b[0m\u001b[0mDeprecationWarning\u001b[0m\u001b[0;34m)\u001b[0m\u001b[0;34m\u001b[0m\u001b[0;34m\u001b[0m\u001b[0m\n\u001b[1;32m      4\u001b[0m \u001b[0mwarnings\u001b[0m\u001b[0;34m.\u001b[0m\u001b[0mfilterwarnings\u001b[0m\u001b[0;34m(\u001b[0m\u001b[0;34m\"ignore\"\u001b[0m\u001b[0;34m,\u001b[0m \u001b[0mcategory\u001b[0m\u001b[0;34m=\u001b[0m\u001b[0mFutureWarning\u001b[0m\u001b[0;34m)\u001b[0m\u001b[0;34m\u001b[0m\u001b[0;34m\u001b[0m\u001b[0m\n\u001b[0;32m----> 5\u001b[0;31m \u001b[0mwarnings\u001b[0m\u001b[0;34m.\u001b[0m\u001b[0mfilterwarnings\u001b[0m\u001b[0;34m(\u001b[0m\u001b[0;34m\"ignore\"\u001b[0m\u001b[0;34m,\u001b[0m \u001b[0mcategory\u001b[0m\u001b[0;34m=\u001b[0m\u001b[0mSettingWithCopy\u001b[0m\u001b[0;34m)\u001b[0m\u001b[0;34m\u001b[0m\u001b[0;34m\u001b[0m\u001b[0m\n\u001b[0m\u001b[1;32m      6\u001b[0m \u001b[0;34m\u001b[0m\u001b[0m\n\u001b[1;32m      7\u001b[0m \u001b[0;32mimport\u001b[0m \u001b[0mnumpy\u001b[0m \u001b[0;32mas\u001b[0m \u001b[0mnp\u001b[0m\u001b[0;34m\u001b[0m\u001b[0;34m\u001b[0m\u001b[0m\n",
      "\u001b[0;31mNameError\u001b[0m: name 'SettingWithCopy' is not defined"
     ]
    }
   ],
   "source": [
    "#who cares about warnings anyway\n",
    "import warnings\n",
    "warnings.filterwarnings(\"ignore\", category=DeprecationWarning)\n",
    "warnings.filterwarnings(\"ignore\", category=FutureWarning)\n",
    "\n",
    "import numpy as np \n",
    "import pandas as pd \n",
    "import matplotlib.pyplot as plt\n",
    "import seaborn as sns\n",
    "import jovian\n",
    "\n",
    "#importing dataset\n",
    "dataset = pd.read_csv(\"WA_Fn-UseC_-Telco-Customer-Churn.csv\", index_col='customerID')\n",
    "dataset['PaymentMethod'] = dataset['PaymentMethod'].replace('Bank transfer (automatic)', 'Bank transfer')\n",
    "dataset['PaymentMethod'] =dataset['PaymentMethod'].replace('Credit card (automatic)', 'Credit card')\n",
    "\n",
    "#splitting dataset / churn\n",
    "bye = dataset[dataset['Churn'] == 'Yes']\n",
    "nobye = dataset[dataset['Churn'] == 'No']\n",
    "\n",
    "#fixing missing values\n",
    "dataset['TotalCharges'] = dataset['TotalCharges'].replace(\" \", 0)\n",
    "temp = dataset['TotalCharges'].values.reshape(-1,1).astype('float64')\n",
    "from sklearn.preprocessing import Imputer\n",
    "imputer = Imputer(missing_values=0., strategy='mean', axis = 0)\n",
    "imputer.fit(temp[:, :])\n",
    "imputer.transform(temp[:, :])\n",
    "dataset['TotalCharges'] = temp\n",
    "\n",
    "#splitting in homogeneous categories\n",
    "cat_feat = list(dataset.columns)\n",
    "cat_feat.remove('tenure')\n",
    "cat_feat.remove('MonthlyCharges')\n",
    "cat_feat.remove('TotalCharges')\n",
    "cat_feat.remove('Churn')\n",
    "\n",
    "num_feat = ['tenure', 'MonthlyCharges', 'TotalCharges']\n",
    "pred = 'Churn'"
   ]
  },
  {
   "cell_type": "code",
   "execution_count": 25,
   "metadata": {},
   "outputs": [],
   "source": [
    "#helper-functions\n",
    "def plot_this(i):\n",
    "    plt.figure(figsize=(9,6))\n",
    "    sns.set_style(\"darkgrid\")\n",
    "    plt.title(\"{} distribution\".format(i.capitalize()), fontsize = 18)\n",
    "    plot = sns.countplot(x = i, data=dataset, hue = dataset['Churn'], palette='Set2')\n",
    "    plt.ylabel(\"Number of people\", fontsize = 14)\n",
    "    plt.xlabel('{}'. format(i),fontsize = 14)\n",
    "    for p in plot.patches:\n",
    "        plot.annotate('{}'.format(p.get_height()), (p.get_x()+0.1, p.get_height()+4))\n",
    "    plt.show()\n",
    "#######################\n",
    "def calculate_this(col):\n",
    "    total = len(dataset[col])\n",
    "    for cat in dataset[col].unique():\n",
    "        if (col == 'SeniorCitizen'):\n",
    "            q = len(dataset[dataset[col]==cat])\n",
    "            if cat == 0:\n",
    "                print(\"%Not senior:\\nCD: {}% \\nRR: {}%\".format(round(q/total*100,2),round((1-len(bye[bye[col]==cat])/len(dataset[dataset[col]==cat]))*100,2)))\n",
    "            else:\n",
    "                print(\"%Senior:\\nCD: {}% \\nRR: {}%\".format(round(q/total*100,2),round((1-len(bye[bye[col]==cat])/len(dataset[dataset[col]==cat]))*100,2)))\n",
    "        else:\n",
    "            q = len(dataset[dataset[col]=='{}'.format(cat)])\n",
    "            print(\"%{}:\\nCD: {}% \\nRR: {}%\".format(cat, round(q/total*100,2),round((1-len(bye[bye[col]=='{}'.format(cat)])/len(dataset[dataset[col]=='{}'.format(cat)]))*100,2)))\n",
    "    print(\"--------------------\")"
   ]
  },
  {
   "cell_type": "markdown",
   "metadata": {},
   "source": [
    "## 4) Exploratory Analysis\n",
    "### 4.1) Churn Distribution"
   ]
  },
  {
   "cell_type": "code",
   "execution_count": 23,
   "metadata": {},
   "outputs": [
    {
     "data": {
      "image/png": "[encoded data removed]",
      "text/plain": [
       "<Figure size 648x432 with 1 Axes>"
      ]
     },
     "metadata": {},
     "output_type": "display_data"
    }
   ],
   "source": [
    "plot_this(\"Churn\")"
   ]
  },
  {
   "cell_type": "markdown",
   "metadata": {},
   "source": [
    "### a) Numerical Analysis"
   ]
  },
  {
   "cell_type": "code",
   "execution_count": 6,
   "metadata": {},
   "outputs": [
    {
     "name": "stdout",
     "output_type": "stream",
     "text": [
      "Total: 7043\n",
      "%Left: 26.536987079369588%\n",
      "%Stayed: 73.4630129206304%\n"
     ]
    }
   ],
   "source": [
    "total = dataset.shape[0]\n",
    "left = len(dataset[dataset['Churn']=='Yes'])\n",
    "stayed = len(dataset[dataset['Churn'] == 'No'])\n",
    "print(\"Total: {}\\n%Left: {}%\\n%Stayed: {}%\".format(total, left/total*100, stayed/total*100))"
   ]
  },
  {
   "cell_type": "markdown",
   "metadata": {},
   "source": [
    "### b) Inference\n",
    "Referring to [Buisness Daily](https://business.dailypay.com/blog/employee-retention-rate) a customer retention rate of 73% is fairly low, perhaps excavating further would help us get to the thicker roots of customer dissatisfaction"
   ]
  },
  {
   "cell_type": "markdown",
   "metadata": {},
   "source": [
    "## 4.2) Categorical breakdown"
   ]
  },
  {
   "cell_type": "code",
   "execution_count": 18,
   "metadata": {},
   "outputs": [],
   "source": []
  },
  {
   "cell_type": "markdown",
   "metadata": {},
   "source": [
    "### a) Numerical Analysis\n",
    "Retention rate (RR) is the rate with respect to each class, subset to the category of customers who churned in the last month<br>\n",
    "Class distribution (CD) is the %distribution of each class over the entire dataset"
   ]
  },
  {
   "cell_type": "code",
   "execution_count": 22,
   "metadata": {},
   "outputs": [
    {
     "name": "stdout",
     "output_type": "stream",
     "text": [
      "%Female:\n",
      "CD: 49.52% \n",
      "RR: 73.08%\n",
      "%Male:\n",
      "CD: 50.48% \n",
      "RR: 73.84%\n",
      "--------------------\n"
     ]
    }
   ],
   "source": []
  },
  {
   "cell_type": "markdown",
   "metadata": {},
   "source": [
    "### Inferences from categorical data\n",
    "- Female customers are more likely to leave vs Male customers, but the difference is almost negligible ~0.04%, thus ruling out gender as a basis of judgement\n",
    "- Senior citizens churned a lot more than the younger age groups, yeilding a retention rate of only 58.32% while younger age groups demonstrate a retention rate ~76.39%\n",
    "- Coincidentally dependent groups and couples seemed to have a bad experience with the company hence contributing identically to the churn\n",
    "- About 90% users opted for the phone services of which almost 3/4th continued their subscription indicating customer satisfaction in that domain\n",
    "- Almost equal number of customer opted for multiple line services. The stats recorded an identical retention rate for both halves thus indicating satisfactory multiple line services offered by the company\n",
    "- Contrary to expectations, fiber optic services, despite being the faster of the two internet services churned at an alarming rate\n",
    "- People who did not purchase services like online security, online backup and device protection churned more than the ones who did. "
   ]
  },
  {
   "cell_type": "code",
   "execution_count": 9,
   "metadata": {
    "jupyter": {
     "source_hidden": true
    }
   },
   "outputs": [
    {
     "name": "stdout",
     "output_type": "stream",
     "text": [
      "Churn rate\n",
      "% People w service but wo support: 80.83197389885808%\n",
      "% People w service but w support: 19.168026101141926%\n"
     ]
    }
   ],
   "source": [
    "onsec = dataset[dataset['OnlineSecurity']=='Yes']\n",
    "onbac = dataset[dataset['OnlineBackup']=='Yes']\n",
    "dp = dataset[dataset['DeviceProtection']=='Yes']\n",
    "tech = dataset[dataset['TechSupport']=='Yes']\n",
    "no_tech = dataset[dataset['TechSupport']=='No']\n",
    "services_w_support=pd.concat([onbac,onsec, dp], ignore_index=True).drop_duplicates()\n",
    "services_w_support=pd.merge(services_w_support, tech, how='inner')\n",
    "services_wo_support = pd.concat([onbac, onsec, dp])\n",
    "services_wo_support = pd.merge(services_wo_support, no_tech, how='inner')\n",
    "churn_w = len(services_w_support[services_w_support['Churn']=='Yes'])\n",
    "churn_wo = len(services_wo_support[services_wo_support['Churn']=='Yes'])\n",
    "print(\"Churn rate\")\n",
    "print(\"% People w service but wo support: {}%\".format(churn_wo/(churn_wo+churn_w)*100))\n",
    "print(\"% People w service but w support: {}%\".format(churn_w/(churn_wo+churn_w)*100))"
   ]
  },
  {
   "cell_type": "markdown",
   "metadata": {},
   "source": [
    "- Evidently customers who opted for afore mentioned services but didn't go for helping services like tech support dominated the attrition rate\n",
    "- The streaming services such as TV and Movie didn't affect the churn significantly, by numbers the number of people who bought those services and churned were almost equal to the number who didn't"
   ]
  },
  {
   "cell_type": "code",
   "execution_count": 28,
   "metadata": {},
   "outputs": [
    {
     "name": "stderr",
     "output_type": "stream",
     "text": [
      "/home/shreesh/.local/lib/python3.6/site-packages/pandas/core/frame.py:4263: SettingWithCopyWarning: \n",
      "A value is trying to be set on a copy of a slice from a DataFrame\n",
      "\n",
      "See the caveats in the documentation: http://pandas.pydata.org/pandas-docs/stable/user_guide/indexing.html#returning-a-view-versus-a-copy\n",
      "  method=method,\n"
     ]
    }
   ],
   "source": [
    "telecom_churn_services = dataset[['OnlineSecurity', 'DeviceProtection', 'StreamingMovies'\n",
    "                                       ,'TechSupport', 'StreamingTV', 'OnlineBackup', 'Churn']]\n",
    "telecom_churn_services.replace(to_replace='Yes', value=1, inplace=True)\n",
    "telecom_churn_services.replace(to_replace='No', value=0, inplace=True)\n",
    "telecom_churn_services = telecom_churn_services[telecom_churn_services.OnlineSecurity !='No internet service']             \n",
    "all_services = telecom_churn_services.groupby('Churn', as_index=False)[['OnlineSecurity', 'DeviceProtection', 'StreamingMovies', 'TechSupport', 'StreamingTV', 'OnlineBackup']].sum()"
   ]
  },
  {
   "cell_type": "code",
   "execution_count": 11,
   "metadata": {},
   "outputs": [
    {
     "data": {
      "image/png": "[encoded data removed]",
      "text/plain": [
       "<Figure size 864x432 with 1 Axes>"
      ]
     },
     "metadata": {},
     "output_type": "display_data"
    }
   ],
   "source": [
    "ax = all_services.set_index('Churn').T.plot(kind='bar', stacked=True, figsize=(12,6))\n",
    "patches, labels = ax.get_legend_handles_labels()\n",
    "ax.legend(patches, labels, loc='best')\n",
    "ax.set_title('Addon Services vs Churn rate', fontsize=20)\n",
    "plt.show()"
   ]
  },
  {
   "cell_type": "markdown",
   "metadata": {},
   "source": [
    "- Although the comparision of streaming category and churn class alone doesn't throw much information. But by comparing all the services offered we can tell how Streaming services offered were <i>relatively</i> the poorest of all"
   ]
  },
  {
   "cell_type": "code",
   "execution_count": 12,
   "metadata": {},
   "outputs": [
    {
     "data": {
      "image/png": "[encoded data removed]",
      "text/plain": [
       "<Figure size 720x432 with 1 Axes>"
      ]
     },
     "metadata": {},
     "output_type": "display_data"
    }
   ],
   "source": [
    "plt.figure(figsize=(10,6))\n",
    "sns.countplot(x = 'PaymentMethod', data=bye, palette='Set2')\n",
    "plt.show()"
   ]
  },
  {
   "cell_type": "markdown",
   "metadata": {},
   "source": [
    "- Wouldn't take a genius to figure out how bad their interface for electronic check payement has been. A devastatingly low retention rate of 54.71%"
   ]
  },
  {
   "cell_type": "markdown",
   "metadata": {},
   "source": [
    "## 3. Numeric Feature Breakdown"
   ]
  },
  {
   "cell_type": "code",
   "execution_count": 13,
   "metadata": {},
   "outputs": [
    {
     "data": {
      "text/html": [
       "<div>\n",
       "<style scoped>\n",
       "    .dataframe tbody tr th:only-of-type {\n",
       "        vertical-align: middle;\n",
       "    }\n",
       "\n",
       "    .dataframe tbody tr th {\n",
       "        vertical-align: top;\n",
       "    }\n",
       "\n",
       "    .dataframe thead th {\n",
       "        text-align: right;\n",
       "    }\n",
       "</style>\n",
       "<table border=\"1\" class=\"dataframe\">\n",
       "  <thead>\n",
       "    <tr style=\"text-align: right;\">\n",
       "      <th></th>\n",
       "      <th>tenure</th>\n",
       "      <th>MonthlyCharges</th>\n",
       "      <th>TotalCharges</th>\n",
       "    </tr>\n",
       "  </thead>\n",
       "  <tbody>\n",
       "    <tr>\n",
       "      <td>count</td>\n",
       "      <td>7043.000000</td>\n",
       "      <td>7043.000000</td>\n",
       "      <td>7043.000000</td>\n",
       "    </tr>\n",
       "    <tr>\n",
       "      <td>mean</td>\n",
       "      <td>32.371149</td>\n",
       "      <td>64.761692</td>\n",
       "      <td>2279.734304</td>\n",
       "    </tr>\n",
       "    <tr>\n",
       "      <td>std</td>\n",
       "      <td>24.559481</td>\n",
       "      <td>30.090047</td>\n",
       "      <td>2266.794470</td>\n",
       "    </tr>\n",
       "    <tr>\n",
       "      <td>min</td>\n",
       "      <td>0.000000</td>\n",
       "      <td>18.250000</td>\n",
       "      <td>0.000000</td>\n",
       "    </tr>\n",
       "    <tr>\n",
       "      <td>25%</td>\n",
       "      <td>9.000000</td>\n",
       "      <td>35.500000</td>\n",
       "      <td>398.550000</td>\n",
       "    </tr>\n",
       "    <tr>\n",
       "      <td>50%</td>\n",
       "      <td>29.000000</td>\n",
       "      <td>70.350000</td>\n",
       "      <td>1394.550000</td>\n",
       "    </tr>\n",
       "    <tr>\n",
       "      <td>75%</td>\n",
       "      <td>55.000000</td>\n",
       "      <td>89.850000</td>\n",
       "      <td>3786.600000</td>\n",
       "    </tr>\n",
       "    <tr>\n",
       "      <td>max</td>\n",
       "      <td>72.000000</td>\n",
       "      <td>118.750000</td>\n",
       "      <td>8684.800000</td>\n",
       "    </tr>\n",
       "  </tbody>\n",
       "</table>\n",
       "</div>"
      ],
      "text/plain": [
       "            tenure  MonthlyCharges  TotalCharges\n",
       "count  7043.000000     7043.000000   7043.000000\n",
       "mean     32.371149       64.761692   2279.734304\n",
       "std      24.559481       30.090047   2266.794470\n",
       "min       0.000000       18.250000      0.000000\n",
       "25%       9.000000       35.500000    398.550000\n",
       "50%      29.000000       70.350000   1394.550000\n",
       "75%      55.000000       89.850000   3786.600000\n",
       "max      72.000000      118.750000   8684.800000"
      ]
     },
     "execution_count": 13,
     "metadata": {},
     "output_type": "execute_result"
    }
   ],
   "source": [
    "dataset[num_feat].describe()\n",
    "# jovian.commit()"
   ]
  },
  {
   "cell_type": "markdown",
   "metadata": {},
   "source": [
    "***Note for reader:*** The inferences and graphs for numerical data have been removed for the time being. I ended up confusing myself too much while deriving meaning from the continuous data"
   ]
  },
  {
   "cell_type": "code",
   "execution_count": 16,
   "metadata": {},
   "outputs": [],
   "source": []
  },
  {
   "cell_type": "code",
   "execution_count": 17,
   "metadata": {},
   "outputs": [
    {
     "data": {
      "image/png": "[encoded data removed]",
      "text/plain": [
       "<Figure size 648x432 with 1 Axes>"
      ]
     },
     "metadata": {},
     "output_type": "display_data"
    }
   ],
   "source": [
    "plot_this('gender')"
   ]
  },
  {
   "cell_type": "code",
   "execution_count": null,
   "metadata": {},
   "outputs": [],
   "source": []
  }
 ],
 "metadata": {
  "kernelspec": {
   "display_name": "Python 3",
   "language": "python",
   "name": "python3"
  },
  "language_info": {
   "codemirror_mode": {
    "name": "ipython",
    "version": 3
   },
   "file_extension": ".py",
   "mimetype": "text/x-python",
   "name": "python",
   "nbconvert_exporter": "python",
   "pygments_lexer": "ipython3",
   "version": "3.6.8"
  }
 },
 "nbformat": 4,
 "nbformat_minor": 4
}
